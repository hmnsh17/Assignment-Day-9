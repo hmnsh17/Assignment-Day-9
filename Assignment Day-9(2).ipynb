{
 "cells": [
  {
   "cell_type": "code",
   "execution_count": 22,
   "metadata": {},
   "outputs": [
    {
     "name": "stdout",
     "output_type": "stream",
     "text": [
      "Overwriting prime.py\n"
     ]
    }
   ],
   "source": [
    "%%writefile prime.py\n",
    "\"\"\"\n",
    "check the number is prime or not\n",
    "\"\"\"\n",
    "def primeornot(num):\n",
    "    \"\"\"\n",
    "        if it is divisible by any one number except 1,itself --then it is not prime\n",
    "    \"\"\"\n",
    "    k = 0\n",
    "    for i in range(1, int(num/2)+1):\n",
    "        if num%i == 0 and i != 1:\n",
    "            k = 1\n",
    "            break\n",
    "    if k == 0:\n",
    "        temp_v = \"PRIME\"\n",
    "    else:\n",
    "        temp_v = \"NOT\"\n",
    "    return temp_v"
   ]
  },
  {
   "cell_type": "code",
   "execution_count": 23,
   "metadata": {},
   "outputs": [
    {
     "name": "stdout",
     "output_type": "stream",
     "text": [
      "\n",
      "--------------------------------------------------------------------\n",
      "\n",
      "Your code has been rated at 10.00/10 (previous run: 10.00/10, +0.00)\n",
      "\n",
      "\n",
      "\n"
     ]
    }
   ],
   "source": [
    "! pylint \"prime.py\""
   ]
  },
  {
   "cell_type": "code",
   "execution_count": 29,
   "metadata": {},
   "outputs": [
    {
     "name": "stdout",
     "output_type": "stream",
     "text": [
      "Overwriting testcase.py\n"
     ]
    }
   ],
   "source": [
    "%%writefile testcase.py\n",
    "import unittest\n",
    "import prime\n",
    "\n",
    "class testprime(unittest.TestCase):\n",
    "    def test1(self):\n",
    "        n=5\n",
    "        r=prime.primeornot(n)\n",
    "        print(r)\n",
    "        self.assertEqual(r,\"PRIME\")\n",
    "    def test2(self):\n",
    "        n=4\n",
    "        r=prime.primeornot(n)\n",
    "        print(r)\n",
    "        self.assertEqual(r,\"NOT\")\n",
    "if __name__ == \"__main__\":\n",
    "    unittest.main()"
   ]
  },
  {
   "cell_type": "code",
   "execution_count": 30,
   "metadata": {},
   "outputs": [
    {
     "name": "stdout",
     "output_type": "stream",
     "text": [
      "PRIME\n",
      "NOT\n"
     ]
    },
    {
     "name": "stderr",
     "output_type": "stream",
     "text": [
      "..\n",
      "----------------------------------------------------------------------\n",
      "Ran 2 tests in 0.001s\n",
      "\n",
      "OK\n"
     ]
    }
   ],
   "source": [
    "!  python testcase.py"
   ]
  },
  {
   "cell_type": "code",
   "execution_count": 31,
   "metadata": {},
   "outputs": [
    {
     "name": "stderr",
     "output_type": "stream",
     "text": [
      ".."
     ]
    },
    {
     "name": "stdout",
     "output_type": "stream",
     "text": [
      "PRIME\n",
      "NOT\n"
     ]
    },
    {
     "name": "stderr",
     "output_type": "stream",
     "text": [
      "\n",
      "----------------------------------------------------------------------\n",
      "Ran 2 tests in 0.001s\n",
      "\n",
      "OK\n"
     ]
    }
   ],
   "source": [
    "!python testcase.py"
   ]
  },
  {
   "cell_type": "code",
   "execution_count": null,
   "metadata": {},
   "outputs": [],
   "source": []
  }
 ],
 "metadata": {
  "kernelspec": {
   "display_name": "Python 3",
   "language": "python",
   "name": "python3"
  },
  "language_info": {
   "codemirror_mode": {
    "name": "ipython",
    "version": 3
   },
   "file_extension": ".py",
   "mimetype": "text/x-python",
   "name": "python",
   "nbconvert_exporter": "python",
   "pygments_lexer": "ipython3",
   "version": "3.8.3"
  }
 },
 "nbformat": 4,
 "nbformat_minor": 4
}
